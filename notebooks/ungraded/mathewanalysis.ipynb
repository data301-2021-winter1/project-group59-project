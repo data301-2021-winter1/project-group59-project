{
 "cells": [
  {
   "cell_type": "markdown",
   "metadata": {},
   "source": [
    "Mathew Lhotak"
   ]
  },
  {
   "cell_type": "code",
   "execution_count": 1,
   "metadata": {},
   "outputs": [],
   "source": [
    "## Research question/interests\n",
    "#I'm interested in looking at certain factors that might influence the outcome of chess games. That is, looking at variables like opening moves, strategies, number of moves in each game.\n",
    "#Conducting an analysis on these variables might provide useful insight for chess players deciding what they might do to help them win games.\n"
   ]
  },
  {
   "cell_type": "code",
   "execution_count": 10,
   "metadata": {},
   "outputs": [],
   "source": [
    "import pandas as pd\n",
    "import numpy as np"
   ]
  },
  {
   "cell_type": "code",
   "execution_count": 13,
   "metadata": {},
   "outputs": [
    {
     "data": {
      "text/plain": [
       "Index(['game_id', 'rated', 'turns', 'victory_status', 'winner',\n",
       "       'time_increment', 'white_id', 'white_rating', 'black_id',\n",
       "       'black_rating', 'moves', 'opening_code', 'opening_moves',\n",
       "       'opening_fullname', 'opening_shortname', 'opening_response',\n",
       "       'opening_variation'],\n",
       "      dtype='object')"
      ]
     },
     "execution_count": 13,
     "metadata": {},
     "output_type": "execute_result"
    }
   ],
   "source": [
    "pd.read_csv(\"chess_games.csv\")\n",
    "rawdf=pd.read_csv(\"chess_games.csv\")\n",
    "rawdf.head()\n",
    "rawdf.columns"
   ]
  },
  {
   "cell_type": "code",
   "execution_count": null,
   "metadata": {},
   "outputs": [],
   "source": [
    "#Here, I'm interested in looking at types of opening strategies and the outcomes. So, I'll create a new proccessed data set with column of match outcome and opening_shortname"
   ]
  },
  {
   "cell_type": "code",
   "execution_count": 14,
   "metadata": {},
   "outputs": [],
   "source": [
    "dfcleaned= rawdf[['victory_status', 'opening_shortname']]"
   ]
  },
  {
   "cell_type": "code",
   "execution_count": 15,
   "metadata": {},
   "outputs": [
    {
     "data": {
      "text/html": [
       "<div>\n",
       "<style scoped>\n",
       "    .dataframe tbody tr th:only-of-type {\n",
       "        vertical-align: middle;\n",
       "    }\n",
       "\n",
       "    .dataframe tbody tr th {\n",
       "        vertical-align: top;\n",
       "    }\n",
       "\n",
       "    .dataframe thead th {\n",
       "        text-align: right;\n",
       "    }\n",
       "</style>\n",
       "<table border=\"1\" class=\"dataframe\">\n",
       "  <thead>\n",
       "    <tr style=\"text-align: right;\">\n",
       "      <th></th>\n",
       "      <th>victory_status</th>\n",
       "      <th>opening_shortname</th>\n",
       "    </tr>\n",
       "  </thead>\n",
       "  <tbody>\n",
       "    <tr>\n",
       "      <th>0</th>\n",
       "      <td>Out of Time</td>\n",
       "      <td>Slav Defense</td>\n",
       "    </tr>\n",
       "    <tr>\n",
       "      <th>1</th>\n",
       "      <td>Resign</td>\n",
       "      <td>Nimzowitsch Defense</td>\n",
       "    </tr>\n",
       "    <tr>\n",
       "      <th>2</th>\n",
       "      <td>Mate</td>\n",
       "      <td>King's Pawn Game</td>\n",
       "    </tr>\n",
       "    <tr>\n",
       "      <th>3</th>\n",
       "      <td>Mate</td>\n",
       "      <td>Queen's Pawn Game</td>\n",
       "    </tr>\n",
       "    <tr>\n",
       "      <th>4</th>\n",
       "      <td>Mate</td>\n",
       "      <td>Philidor Defense</td>\n",
       "    </tr>\n",
       "    <tr>\n",
       "      <th>...</th>\n",
       "      <td>...</td>\n",
       "      <td>...</td>\n",
       "    </tr>\n",
       "    <tr>\n",
       "      <th>20053</th>\n",
       "      <td>Resign</td>\n",
       "      <td>Dutch Defense</td>\n",
       "    </tr>\n",
       "    <tr>\n",
       "      <th>20054</th>\n",
       "      <td>Mate</td>\n",
       "      <td>Queen's Pawn</td>\n",
       "    </tr>\n",
       "    <tr>\n",
       "      <th>20055</th>\n",
       "      <td>Mate</td>\n",
       "      <td>Queen's Pawn Game</td>\n",
       "    </tr>\n",
       "    <tr>\n",
       "      <th>20056</th>\n",
       "      <td>Resign</td>\n",
       "      <td>Pirc Defense</td>\n",
       "    </tr>\n",
       "    <tr>\n",
       "      <th>20057</th>\n",
       "      <td>Mate</td>\n",
       "      <td>Queen's Pawn Game</td>\n",
       "    </tr>\n",
       "  </tbody>\n",
       "</table>\n",
       "<p>20058 rows × 2 columns</p>\n",
       "</div>"
      ],
      "text/plain": [
       "      victory_status    opening_shortname\n",
       "0        Out of Time         Slav Defense\n",
       "1             Resign  Nimzowitsch Defense\n",
       "2               Mate     King's Pawn Game\n",
       "3               Mate    Queen's Pawn Game\n",
       "4               Mate     Philidor Defense\n",
       "...              ...                  ...\n",
       "20053         Resign        Dutch Defense\n",
       "20054           Mate         Queen's Pawn\n",
       "20055           Mate    Queen's Pawn Game\n",
       "20056         Resign         Pirc Defense\n",
       "20057           Mate    Queen's Pawn Game\n",
       "\n",
       "[20058 rows x 2 columns]"
      ]
     },
     "execution_count": 15,
     "metadata": {},
     "output_type": "execute_result"
    }
   ],
   "source": [
    "dfcleaned"
   ]
  },
  {
   "cell_type": "code",
   "execution_count": 17,
   "metadata": {},
   "outputs": [],
   "source": [
    "mate= ['Mate']"
   ]
  },
  {
   "cell_type": "code",
   "execution_count": 18,
   "metadata": {},
   "outputs": [],
   "source": [
    "wongames= dfcleaned[dfcleaned['victory_status'].isin(mate)]"
   ]
  },
  {
   "cell_type": "code",
   "execution_count": 19,
   "metadata": {},
   "outputs": [
    {
     "data": {
      "text/html": [
       "<div>\n",
       "<style scoped>\n",
       "    .dataframe tbody tr th:only-of-type {\n",
       "        vertical-align: middle;\n",
       "    }\n",
       "\n",
       "    .dataframe tbody tr th {\n",
       "        vertical-align: top;\n",
       "    }\n",
       "\n",
       "    .dataframe thead th {\n",
       "        text-align: right;\n",
       "    }\n",
       "</style>\n",
       "<table border=\"1\" class=\"dataframe\">\n",
       "  <thead>\n",
       "    <tr style=\"text-align: right;\">\n",
       "      <th></th>\n",
       "      <th>victory_status</th>\n",
       "      <th>opening_shortname</th>\n",
       "    </tr>\n",
       "  </thead>\n",
       "  <tbody>\n",
       "    <tr>\n",
       "      <th>2</th>\n",
       "      <td>Mate</td>\n",
       "      <td>King's Pawn Game</td>\n",
       "    </tr>\n",
       "    <tr>\n",
       "      <th>3</th>\n",
       "      <td>Mate</td>\n",
       "      <td>Queen's Pawn Game</td>\n",
       "    </tr>\n",
       "    <tr>\n",
       "      <th>4</th>\n",
       "      <td>Mate</td>\n",
       "      <td>Philidor Defense</td>\n",
       "    </tr>\n",
       "    <tr>\n",
       "      <th>9</th>\n",
       "      <td>Mate</td>\n",
       "      <td>Scandinavian Defense</td>\n",
       "    </tr>\n",
       "    <tr>\n",
       "      <th>10</th>\n",
       "      <td>Mate</td>\n",
       "      <td>Van't Kruijs Opening</td>\n",
       "    </tr>\n",
       "    <tr>\n",
       "      <th>...</th>\n",
       "      <td>...</td>\n",
       "      <td>...</td>\n",
       "    </tr>\n",
       "    <tr>\n",
       "      <th>20049</th>\n",
       "      <td>Mate</td>\n",
       "      <td>French Defense</td>\n",
       "    </tr>\n",
       "    <tr>\n",
       "      <th>20051</th>\n",
       "      <td>Mate</td>\n",
       "      <td>French Defense</td>\n",
       "    </tr>\n",
       "    <tr>\n",
       "      <th>20054</th>\n",
       "      <td>Mate</td>\n",
       "      <td>Queen's Pawn</td>\n",
       "    </tr>\n",
       "    <tr>\n",
       "      <th>20055</th>\n",
       "      <td>Mate</td>\n",
       "      <td>Queen's Pawn Game</td>\n",
       "    </tr>\n",
       "    <tr>\n",
       "      <th>20057</th>\n",
       "      <td>Mate</td>\n",
       "      <td>Queen's Pawn Game</td>\n",
       "    </tr>\n",
       "  </tbody>\n",
       "</table>\n",
       "<p>6325 rows × 2 columns</p>\n",
       "</div>"
      ],
      "text/plain": [
       "      victory_status     opening_shortname\n",
       "2               Mate      King's Pawn Game\n",
       "3               Mate     Queen's Pawn Game\n",
       "4               Mate      Philidor Defense\n",
       "9               Mate  Scandinavian Defense\n",
       "10              Mate  Van't Kruijs Opening\n",
       "...              ...                   ...\n",
       "20049           Mate        French Defense\n",
       "20051           Mate        French Defense\n",
       "20054           Mate          Queen's Pawn\n",
       "20055           Mate     Queen's Pawn Game\n",
       "20057           Mate     Queen's Pawn Game\n",
       "\n",
       "[6325 rows x 2 columns]"
      ]
     },
     "execution_count": 19,
     "metadata": {},
     "output_type": "execute_result"
    }
   ],
   "source": [
    "wongames"
   ]
  },
  {
   "cell_type": "code",
   "execution_count": null,
   "metadata": {},
   "outputs": [],
   "source": []
  },
  {
   "cell_type": "code",
   "execution_count": 20,
   "metadata": {},
   "outputs": [
    {
     "name": "stdout",
     "output_type": "stream",
     "text": [
      "['Mate']\n",
      "['Mate']\n"
     ]
    }
   ],
   "source": [
    "for col in wongames:\n",
    "    print(wongames['victory_status'].unique())\n",
    "    \n",
    "    "
   ]
  },
  {
   "cell_type": "code",
   "execution_count": 21,
   "metadata": {},
   "outputs": [
    {
     "data": {
      "text/plain": [
       "Sicilian Defense      721\n",
       "French Defense        428\n",
       "Queen's Pawn Game     421\n",
       "King's Pawn Game      376\n",
       "Italian Game          309\n",
       "                     ... \n",
       "Australian Defense      1\n",
       "System                  1\n",
       "Wade Defense            1\n",
       "Doery Defense           1\n",
       "Barnes Opening          1\n",
       "Name: opening_shortname, Length: 120, dtype: int64"
      ]
     },
     "execution_count": 21,
     "metadata": {},
     "output_type": "execute_result"
    }
   ],
   "source": [
    "wongames['opening_shortname'].value_counts()"
   ]
  },
  {
   "cell_type": "code",
   "execution_count": 22,
   "metadata": {},
   "outputs": [
    {
     "data": {
      "text/plain": [
       "count                 6325\n",
       "unique                 120\n",
       "top       Sicilian Defense\n",
       "freq                   721\n",
       "Name: opening_shortname, dtype: object"
      ]
     },
     "execution_count": 22,
     "metadata": {},
     "output_type": "execute_result"
    }
   ],
   "source": [
    "wongames['opening_shortname'].describe()"
   ]
  },
  {
   "cell_type": "code",
   "execution_count": null,
   "metadata": {},
   "outputs": [],
   "source": []
  },
  {
   "cell_type": "code",
   "execution_count": 24,
   "metadata": {},
   "outputs": [],
   "source": [
    "# I'm interested in, for example, the top 10 strategies that had the highest win count.\n",
    "dfwongames=wongames['opening_shortname'].value_counts().to_frame()"
   ]
  },
  {
   "cell_type": "code",
   "execution_count": 25,
   "metadata": {},
   "outputs": [
    {
     "data": {
      "text/plain": [
       "<AxesSubplot:>"
      ]
     },
     "execution_count": 25,
     "metadata": {},
     "output_type": "execute_result"
    },
    {
     "data": {
      "image/png": "[encoded data removed]",
      "text/plain": [
       "<Figure size 432x288 with 1 Axes>"
      ]
     },
     "metadata": {
      "needs_background": "light"
     },
     "output_type": "display_data"
    }
   ],
   "source": [
    "dfwongames[:10].plot(kind='barh')"
   ]
  },
  {
   "cell_type": "code",
   "execution_count": 29,
   "metadata": {},
   "outputs": [
    {
     "data": {
      "text/plain": [
       "<AxesSubplot:>"
      ]
     },
     "execution_count": 29,
     "metadata": {},
     "output_type": "execute_result"
    },
    {
     "data": {
      "image/png": "[encoded data removed]",
      "text/plain": [
       "<Figure size 432x288 with 1 Axes>"
      ]
     },
     "metadata": {
      "needs_background": "light"
     },
     "output_type": "display_data"
    }
   ],
   "source": [
    "#As we can see in the visualization above, we can see that the Sicilian Defense strategy had the most wins that resulted in a check mate victory.\n",
    "#\n",
    "dfwongames.boxplot('opening_shortname')"
   ]
  },
  {
   "cell_type": "code",
   "execution_count": 36,
   "metadata": {},
   "outputs": [],
   "source": [
    "#On the boxplot above, we can also see that within the top 10 strategies that had the highest win rate, most are grouped together within a 100-450 wins interval. While the Sicilian Defense is almost an\n",
    "#outlier here. Is there a chance that there's a reason that it's an outlier? \n",
    "#Lets recall the dfcleaned dataframe and see how many times each strategy was used"
   ]
  },
  {
   "cell_type": "code",
   "execution_count": 32,
   "metadata": {},
   "outputs": [
    {
     "data": {
      "text/plain": [
       "Sicilian Defense       2632\n",
       "French Defense         1412\n",
       "Queen's Pawn Game      1233\n",
       "Italian Game            981\n",
       "King's Pawn Game        917\n",
       "                       ... \n",
       "Valencia Opening          1\n",
       "Australian Defense        1\n",
       "Doery Defense             1\n",
       "Pterodactyl Defense       1\n",
       "Global Opening            1\n",
       "Name: opening_shortname, Length: 128, dtype: int64"
      ]
     },
     "execution_count": 32,
     "metadata": {},
     "output_type": "execute_result"
    }
   ],
   "source": [
    "dfcleaned['opening_shortname'].value_counts()"
   ]
  },
  {
   "cell_type": "code",
   "execution_count": 35,
   "metadata": {},
   "outputs": [],
   "source": [
    "#Clearly, we see that Sicilian Defense was used the most. This could explain why it's acting as an outlier in the visuals above. This can be caused by an omitted variable bias."
   ]
  },
  {
   "cell_type": "code",
   "execution_count": 37,
   "metadata": {},
   "outputs": [],
   "source": [
    "#To find out the win rate of each strategy used, we can simply divide the number of games that each strategy was deployed by how many games were won by each of the strategies.\n",
    "#Because of simplicity and accuracy, We will calculate the strategies that were used more often, i.e., a larger sample size, so that we it can be more accurate."
   ]
  },
  {
   "cell_type": "code",
   "execution_count": 39,
   "metadata": {},
   "outputs": [
    {
     "data": {
      "text/plain": [
       "Sicilian Defense         2632\n",
       "French Defense           1412\n",
       "Queen's Pawn Game        1233\n",
       "Italian Game              981\n",
       "King's Pawn Game          917\n",
       "Queen's Gambit            912\n",
       "Ruy Lopez                 858\n",
       "English Opening           720\n",
       "Scandinavian Defense      716\n",
       "Philidor Defense          691\n",
       "Caro-Kann Defense         597\n",
       "Scotch Game               465\n",
       "Four Knights Game         370\n",
       "Van't Kruijs Opening      368\n",
       "Zukertort Opening         336\n",
       "Bishop's Opening          323\n",
       "Indian Game               319\n",
       "Pirc Defense              288\n",
       "Russian Game              252\n",
       "Slav Defense              240\n",
       "King's Gambit             237\n",
       "Modern Defense            225\n",
       "Nimzowitsch Defense       224\n",
       "Horwitz Defense           209\n",
       "King's Indian Defense     197\n",
       "Alekhine Defense          192\n",
       "King's Knight Opening     183\n",
       "Hungarian Opening         179\n",
       "Center Game               172\n",
       "Owen Defense              171\n",
       "Name: opening_shortname, dtype: int64"
      ]
     },
     "execution_count": 39,
     "metadata": {},
     "output_type": "execute_result"
    }
   ],
   "source": [
    "dfcleaned['opening_shortname'].value_counts()[:30]"
   ]
  },
  {
   "cell_type": "code",
   "execution_count": 43,
   "metadata": {},
   "outputs": [
    {
     "data": {
      "text/plain": [
       "Sicilian Defense         721\n",
       "French Defense           428\n",
       "Queen's Pawn Game        421\n",
       "King's Pawn Game         376\n",
       "Italian Game             309\n",
       "Ruy Lopez                269\n",
       "Queen's Gambit           255\n",
       "Philidor Defense         243\n",
       "Scandinavian Defense     234\n",
       "English Opening          202\n",
       "Caro-Kann Defense        166\n",
       "Van't Kruijs Opening     154\n",
       "Four Knights Game        135\n",
       "Scotch Game              120\n",
       "Bishop's Opening         116\n",
       "Zukertort Opening        102\n",
       "Indian Game               94\n",
       "Russian Game              88\n",
       "Pirc Defense              78\n",
       "Center Game               78\n",
       "Nimzowitsch Defense       73\n",
       "Hungarian Opening         73\n",
       "Modern Defense            72\n",
       "King's Knight Opening     71\n",
       "Horwitz Defense           69\n",
       "King's Gambit             69\n",
       "Alekhine Defense          67\n",
       "Slav Defense              61\n",
       "Bird Opening              60\n",
       "Owen Defense              59\n",
       "Name: opening_shortname, dtype: int64"
      ]
     },
     "execution_count": 43,
     "metadata": {},
     "output_type": "execute_result"
    }
   ],
   "source": [
    "wongames['opening_shortname'].value_counts()[:30]"
   ]
  },
  {
   "cell_type": "code",
   "execution_count": 45,
   "metadata": {},
   "outputs": [
    {
     "data": {
      "text/plain": [
       "Alekhine Defense          192\n",
       "Bishop's Opening          323\n",
       "Caro-Kann Defense         597\n",
       "Center Game               172\n",
       "English Opening           720\n",
       "Four Knights Game         370\n",
       "French Defense           1412\n",
       "Horwitz Defense           209\n",
       "Hungarian Opening         179\n",
       "Indian Game               319\n",
       "Italian Game              981\n",
       "King's Gambit             237\n",
       "King's Indian Defense     197\n",
       "King's Knight Opening     183\n",
       "King's Pawn Game          917\n",
       "Modern Defense            225\n",
       "Nimzowitsch Defense       224\n",
       "Owen Defense              171\n",
       "Philidor Defense          691\n",
       "Pirc Defense              288\n",
       "Queen's Gambit            912\n",
       "Queen's Pawn Game        1233\n",
       "Russian Game              252\n",
       "Ruy Lopez                 858\n",
       "Scandinavian Defense      716\n",
       "Scotch Game               465\n",
       "Sicilian Defense         2632\n",
       "Slav Defense              240\n",
       "Van't Kruijs Opening      368\n",
       "Zukertort Opening         336\n",
       "Name: opening_shortname, dtype: int64"
      ]
     },
     "execution_count": 45,
     "metadata": {},
     "output_type": "execute_result"
    }
   ],
   "source": [
    "dfcleaned['opening_shortname'].value_counts()[:30].sort_index(ascending=True)"
   ]
  },
  {
   "cell_type": "code",
   "execution_count": 49,
   "metadata": {},
   "outputs": [
    {
     "data": {
      "text/plain": [
       "Alekhine Defense         0.348958\n",
       "Bird Opening                  NaN\n",
       "Bishop's Opening         0.359133\n",
       "Caro-Kann Defense        0.278057\n",
       "Center Game              0.453488\n",
       "English Opening          0.280556\n",
       "Four Knights Game        0.364865\n",
       "French Defense           0.303116\n",
       "Horwitz Defense          0.330144\n",
       "Hungarian Opening        0.407821\n",
       "Indian Game              0.294671\n",
       "Italian Game             0.314985\n",
       "King's Gambit            0.291139\n",
       "King's Indian Defense         NaN\n",
       "King's Knight Opening    0.387978\n",
       "King's Pawn Game         0.410033\n",
       "Modern Defense           0.320000\n",
       "Nimzowitsch Defense      0.325893\n",
       "Owen Defense             0.345029\n",
       "Philidor Defense         0.351664\n",
       "Pirc Defense             0.270833\n",
       "Queen's Gambit           0.279605\n",
       "Queen's Pawn Game        0.341444\n",
       "Russian Game             0.349206\n",
       "Ruy Lopez                0.313520\n",
       "Scandinavian Defense     0.326816\n",
       "Scotch Game              0.258065\n",
       "Sicilian Defense         0.273936\n",
       "Slav Defense             0.254167\n",
       "Van't Kruijs Opening     0.418478\n",
       "Zukertort Opening        0.303571\n",
       "Name: opening_shortname, dtype: float64"
      ]
     },
     "execution_count": 49,
     "metadata": {},
     "output_type": "execute_result"
    }
   ],
   "source": [
    "wongames['opening_shortname'].value_counts()[:30].sort_index(ascending=True)/dfcleaned['opening_shortname'].value_counts()[:30].sort_index(ascending=True)"
   ]
  },
  {
   "cell_type": "code",
   "execution_count": 52,
   "metadata": {},
   "outputs": [
    {
     "data": {
      "text/plain": [
       "Alekhine Defense         0.348958\n",
       "Bird Opening                  NaN\n",
       "Bishop's Opening         0.359133\n",
       "Caro-Kann Defense        0.278057\n",
       "Center Game              0.453488\n",
       "English Opening          0.280556\n",
       "Four Knights Game        0.364865\n",
       "French Defense           0.303116\n",
       "Horwitz Defense          0.330144\n",
       "Hungarian Opening        0.407821\n",
       "Indian Game              0.294671\n",
       "Italian Game             0.314985\n",
       "King's Gambit            0.291139\n",
       "King's Indian Defense         NaN\n",
       "King's Knight Opening    0.387978\n",
       "King's Pawn Game         0.410033\n",
       "Modern Defense           0.320000\n",
       "Nimzowitsch Defense      0.325893\n",
       "Owen Defense             0.345029\n",
       "Philidor Defense         0.351664\n",
       "Pirc Defense             0.270833\n",
       "Queen's Gambit           0.279605\n",
       "Queen's Pawn Game        0.341444\n",
       "Russian Game             0.349206\n",
       "Ruy Lopez                0.313520\n",
       "Scandinavian Defense     0.326816\n",
       "Scotch Game              0.258065\n",
       "Sicilian Defense         0.273936\n",
       "Slav Defense             0.254167\n",
       "Van't Kruijs Opening     0.418478\n",
       "Zukertort Opening        0.303571\n",
       "Name: opening_shortname, dtype: float64"
      ]
     },
     "execution_count": 52,
     "metadata": {},
     "output_type": "execute_result"
    }
   ],
   "source": [
    "winrate=wongames['opening_shortname'].value_counts()[:30].sort_index(ascending=True)/dfcleaned['opening_shortname'].value_counts()[:30].sort_index(ascending=True)\n",
    "winrate"
   ]
  },
  {
   "cell_type": "code",
   "execution_count": 55,
   "metadata": {},
   "outputs": [
    {
     "data": {
      "text/html": [
       "<div>\n",
       "<style scoped>\n",
       "    .dataframe tbody tr th:only-of-type {\n",
       "        vertical-align: middle;\n",
       "    }\n",
       "\n",
       "    .dataframe tbody tr th {\n",
       "        vertical-align: top;\n",
       "    }\n",
       "\n",
       "    .dataframe thead th {\n",
       "        text-align: right;\n",
       "    }\n",
       "</style>\n",
       "<table border=\"1\" class=\"dataframe\">\n",
       "  <thead>\n",
       "    <tr style=\"text-align: right;\">\n",
       "      <th></th>\n",
       "      <th>opening_shortname</th>\n",
       "    </tr>\n",
       "  </thead>\n",
       "  <tbody>\n",
       "    <tr>\n",
       "      <th>Alekhine Defense</th>\n",
       "      <td>0.348958</td>\n",
       "    </tr>\n",
       "    <tr>\n",
       "      <th>Bird Opening</th>\n",
       "      <td>NaN</td>\n",
       "    </tr>\n",
       "    <tr>\n",
       "      <th>Bishop's Opening</th>\n",
       "      <td>0.359133</td>\n",
       "    </tr>\n",
       "    <tr>\n",
       "      <th>Caro-Kann Defense</th>\n",
       "      <td>0.278057</td>\n",
       "    </tr>\n",
       "    <tr>\n",
       "      <th>Center Game</th>\n",
       "      <td>0.453488</td>\n",
       "    </tr>\n",
       "    <tr>\n",
       "      <th>English Opening</th>\n",
       "      <td>0.280556</td>\n",
       "    </tr>\n",
       "    <tr>\n",
       "      <th>Four Knights Game</th>\n",
       "      <td>0.364865</td>\n",
       "    </tr>\n",
       "    <tr>\n",
       "      <th>French Defense</th>\n",
       "      <td>0.303116</td>\n",
       "    </tr>\n",
       "    <tr>\n",
       "      <th>Horwitz Defense</th>\n",
       "      <td>0.330144</td>\n",
       "    </tr>\n",
       "    <tr>\n",
       "      <th>Hungarian Opening</th>\n",
       "      <td>0.407821</td>\n",
       "    </tr>\n",
       "    <tr>\n",
       "      <th>Indian Game</th>\n",
       "      <td>0.294671</td>\n",
       "    </tr>\n",
       "    <tr>\n",
       "      <th>Italian Game</th>\n",
       "      <td>0.314985</td>\n",
       "    </tr>\n",
       "    <tr>\n",
       "      <th>King's Gambit</th>\n",
       "      <td>0.291139</td>\n",
       "    </tr>\n",
       "    <tr>\n",
       "      <th>King's Indian Defense</th>\n",
       "      <td>NaN</td>\n",
       "    </tr>\n",
       "    <tr>\n",
       "      <th>King's Knight Opening</th>\n",
       "      <td>0.387978</td>\n",
       "    </tr>\n",
       "    <tr>\n",
       "      <th>King's Pawn Game</th>\n",
       "      <td>0.410033</td>\n",
       "    </tr>\n",
       "    <tr>\n",
       "      <th>Modern Defense</th>\n",
       "      <td>0.320000</td>\n",
       "    </tr>\n",
       "    <tr>\n",
       "      <th>Nimzowitsch Defense</th>\n",
       "      <td>0.325893</td>\n",
       "    </tr>\n",
       "    <tr>\n",
       "      <th>Owen Defense</th>\n",
       "      <td>0.345029</td>\n",
       "    </tr>\n",
       "    <tr>\n",
       "      <th>Philidor Defense</th>\n",
       "      <td>0.351664</td>\n",
       "    </tr>\n",
       "    <tr>\n",
       "      <th>Pirc Defense</th>\n",
       "      <td>0.270833</td>\n",
       "    </tr>\n",
       "    <tr>\n",
       "      <th>Queen's Gambit</th>\n",
       "      <td>0.279605</td>\n",
       "    </tr>\n",
       "    <tr>\n",
       "      <th>Queen's Pawn Game</th>\n",
       "      <td>0.341444</td>\n",
       "    </tr>\n",
       "    <tr>\n",
       "      <th>Russian Game</th>\n",
       "      <td>0.349206</td>\n",
       "    </tr>\n",
       "    <tr>\n",
       "      <th>Ruy Lopez</th>\n",
       "      <td>0.313520</td>\n",
       "    </tr>\n",
       "    <tr>\n",
       "      <th>Scandinavian Defense</th>\n",
       "      <td>0.326816</td>\n",
       "    </tr>\n",
       "    <tr>\n",
       "      <th>Scotch Game</th>\n",
       "      <td>0.258065</td>\n",
       "    </tr>\n",
       "    <tr>\n",
       "      <th>Sicilian Defense</th>\n",
       "      <td>0.273936</td>\n",
       "    </tr>\n",
       "    <tr>\n",
       "      <th>Slav Defense</th>\n",
       "      <td>0.254167</td>\n",
       "    </tr>\n",
       "    <tr>\n",
       "      <th>Van't Kruijs Opening</th>\n",
       "      <td>0.418478</td>\n",
       "    </tr>\n",
       "    <tr>\n",
       "      <th>Zukertort Opening</th>\n",
       "      <td>0.303571</td>\n",
       "    </tr>\n",
       "  </tbody>\n",
       "</table>\n",
       "</div>"
      ],
      "text/plain": [
       "                       opening_shortname\n",
       "Alekhine Defense                0.348958\n",
       "Bird Opening                         NaN\n",
       "Bishop's Opening                0.359133\n",
       "Caro-Kann Defense               0.278057\n",
       "Center Game                     0.453488\n",
       "English Opening                 0.280556\n",
       "Four Knights Game               0.364865\n",
       "French Defense                  0.303116\n",
       "Horwitz Defense                 0.330144\n",
       "Hungarian Opening               0.407821\n",
       "Indian Game                     0.294671\n",
       "Italian Game                    0.314985\n",
       "King's Gambit                   0.291139\n",
       "King's Indian Defense                NaN\n",
       "King's Knight Opening           0.387978\n",
       "King's Pawn Game                0.410033\n",
       "Modern Defense                  0.320000\n",
       "Nimzowitsch Defense             0.325893\n",
       "Owen Defense                    0.345029\n",
       "Philidor Defense                0.351664\n",
       "Pirc Defense                    0.270833\n",
       "Queen's Gambit                  0.279605\n",
       "Queen's Pawn Game               0.341444\n",
       "Russian Game                    0.349206\n",
       "Ruy Lopez                       0.313520\n",
       "Scandinavian Defense            0.326816\n",
       "Scotch Game                     0.258065\n",
       "Sicilian Defense                0.273936\n",
       "Slav Defense                    0.254167\n",
       "Van't Kruijs Opening            0.418478\n",
       "Zukertort Opening               0.303571"
      ]
     },
     "execution_count": 55,
     "metadata": {},
     "output_type": "execute_result"
    }
   ],
   "source": [
    "dfwinrate=winrate.to_frame()\n",
    "dfwinrate"
   ]
  },
  {
   "cell_type": "code",
   "execution_count": 62,
   "metadata": {},
   "outputs": [
    {
     "data": {
      "text/plain": [
       "<AxesSubplot:>"
      ]
     },
     "execution_count": 62,
     "metadata": {},
     "output_type": "execute_result"
    },
    {
     "data": {
      "image/png": "[encoded data removed]",
      "text/plain": [
       "<Figure size 1440x720 with 1 Axes>"
      ]
     },
     "metadata": {
      "needs_background": "light"
     },
     "output_type": "display_data"
    }
   ],
   "source": [
    "dfwinrateclean=dfwinrate.dropna(axis=0)\n",
    "dfwinrateclean=dfwinrate.dropna(axis=0)\n",
    "dfwinrateclean.plot(kind=\"barh\", figsize=(20,10))"
   ]
  },
  {
   "cell_type": "code",
   "execution_count": null,
   "metadata": {},
   "outputs": [],
   "source": [
    "#After calculating the winrate of the top 30 used strategies in the data set, we can see that the \"Center Game\" strategy "
   ]
  }
 ],
 "metadata": {
  "kernelspec": {
   "display_name": "Python 3 (ipykernel)",
   "language": "python",
   "name": "python3"
  },
  "language_info": {
   "codemirror_mode": {
    "name": "ipython",
    "version": 3
   },
   "file_extension": ".py",
   "mimetype": "text/x-python",
   "name": "python",
   "nbconvert_exporter": "python",
   "pygments_lexer": "ipython3",
   "version": "3.9.5"
  }
 },
 "nbformat": 4,
 "nbformat_minor": 4
}
